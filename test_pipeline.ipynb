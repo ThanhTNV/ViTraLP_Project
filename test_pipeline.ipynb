{
 "cells": [
  {
   "cell_type": "markdown",
   "metadata": {},
   "source": [
    "### Env checking"
   ]
  },
  {
   "cell_type": "code",
   "execution_count": 4,
   "metadata": {},
   "outputs": [
    {
     "name": "stdout",
     "output_type": "stream",
     "text": [
      "2.5.1\n",
      "True\n",
      "NVIDIA GeForce RTX 4050 Laptop GPU\n"
     ]
    }
   ],
   "source": [
    "import torch\n",
    "print(torch.__version__)                   # In ra version, ví dụ 2.5.1\n",
    "print(torch.cuda.is_available())           # True nếu GPU dùng được\n",
    "print(torch.cuda.get_device_name(0))       # Tên GPU nếu có\n"
   ]
  },
  {
   "cell_type": "code",
   "execution_count": 5,
   "metadata": {},
   "outputs": [
    {
     "name": "stdout",
     "output_type": "stream",
     "text": [
      "TensorFlow version: 2.10.0\n",
      "Num GPUs Available: 1\n",
      "GPU Name: /physical_device:GPU:0\n"
     ]
    }
   ],
   "source": [
    "import tensorflow as tf\n",
    "\n",
    "print(\"TensorFlow version:\", tf.__version__)\n",
    "gpus = tf.config.list_physical_devices('GPU')\n",
    "print(\"Num GPUs Available:\", len(gpus))\n",
    "for gpu in gpus:\n",
    "    print(\"GPU Name:\", gpu.name)\n"
   ]
  },
  {
   "cell_type": "markdown",
   "metadata": {},
   "source": [
    "### YOLO Detecting"
   ]
  },
  {
   "cell_type": "code",
   "execution_count": 2,
   "metadata": {},
   "outputs": [
    {
     "name": "stdout",
     "output_type": "stream",
     "text": [
      "\n",
      "image 1/1 C:\\Users\\ADMIN\\Desktop\\test_real\\enhanced\\1.jpg: 480x640 2 LPs, 22.2ms\n",
      "Speed: 2.5ms preprocess, 22.2ms inference, 2.1ms postprocess per image at shape (1, 3, 480, 640)\n",
      "Cropped plates for C:\\Users\\ADMIN\\Desktop\\test_real\\enhanced\\1.jpg:\n",
      " - D:\\ViTraLP\\output_yolo_crop_test\\1_plate_0.jpg\n",
      " - D:\\ViTraLP\\output_yolo_crop_test\\1_plate_1.jpg\n"
     ]
    }
   ],
   "source": [
    "from ultralytics import YOLO\n",
    "import cv2\n",
    "import os\n",
    "from typing import Union, List\n",
    "\n",
    "def detect_license_plates(image_paths: Union[str, List[str]],\n",
    "                          model_path,\n",
    "                          save_dir=r\"D:\\ViTraLP\\output_yolo_crop_test\",  # Thư mục cố định\n",
    "                          conf_thresh=0.4):\n",
    "    os.makedirs(save_dir, exist_ok=True)\n",
    "\n",
    "    # Load model\n",
    "    model = YOLO(model_path)\n",
    "\n",
    "    # Đảm bảo image_paths là list\n",
    "    if isinstance(image_paths, str):\n",
    "        image_paths = [image_paths]\n",
    "\n",
    "    all_cropped_paths = []\n",
    "\n",
    "    for image_path in image_paths:\n",
    "        # Run inference\n",
    "        results = model(image_path, conf=conf_thresh)\n",
    "        result = results[0]\n",
    "        boxes = result.boxes.xyxy.cpu().numpy()\n",
    "\n",
    "        # Load ảnh gốc\n",
    "        image = cv2.imread(image_path)\n",
    "        cropped_paths = []\n",
    "\n",
    "        for i, (x1, y1, x2, y2) in enumerate(boxes):\n",
    "            x1, y1, x2, y2 = map(int, [x1, y1, x2, y2])\n",
    "            crop = image[y1:y2, x1:x2]\n",
    "\n",
    "            basename = os.path.splitext(os.path.basename(image_path))[0]\n",
    "            crop_filename = f\"{basename}_plate_{i}.jpg\"\n",
    "            crop_path = os.path.join(save_dir, crop_filename)\n",
    "\n",
    "            cv2.imwrite(crop_path, crop)\n",
    "            cropped_paths.append(crop_path)\n",
    "\n",
    "        all_cropped_paths.append({\"image\": image_path, \"crops\": cropped_paths})\n",
    "\n",
    "    return all_cropped_paths\n",
    "\n",
    "\n",
    "if __name__ == \"__main__\":\n",
    "    image_paths = [\n",
    "        r\"C:\\Users\\ADMIN\\Desktop\\test_real\\enhanced\\1.jpg\"\n",
    "    ]\n",
    "    model_path = \"yolo_finetuned_weights/yolo11_rainy_real_200_best.pt\"\n",
    "    results = detect_license_plates(image_paths, model_path)\n",
    "\n",
    "    for result in results:\n",
    "        print(f\"Cropped plates for {result['image']}:\")\n",
    "        for path in result['crops']:\n",
    "            print(\" -\", path)\n"
   ]
  },
  {
   "cell_type": "markdown",
   "metadata": {},
   "source": [
    "### OCR recognizing"
   ]
  },
  {
   "cell_type": "code",
   "execution_count": 8,
   "metadata": {},
   "outputs": [
    {
     "name": "stdout",
     "output_type": "stream",
     "text": [
      "\n",
      "=== 1_plate_0.jpg ===\n",
      "Text: 51G100.96, Confidence: 0.94\n",
      "\n",
      "=== 1_plate_1.jpg ===\n",
      "Text: 100.96, Confidence: 0.99\n"
     ]
    }
   ],
   "source": [
    "import os\n",
    "from paddleocr import PaddleOCR\n",
    "\n",
    "# Ép PaddleOCR chỉ dùng CPU\n",
    "os.environ[\"CUDA_VISIBLE_DEVICES\"] = \"\"\n",
    "\n",
    "# Khởi tạo OCR với model nhận dạng tùy chỉnh\n",
    "ocr_model = PaddleOCR(\n",
    "    use_angle_cls=False,\n",
    "    det=False,\n",
    "    rec=True,\n",
    "    text_recognition_model_dir=r\"D:/ViTraLP/original_weights_paddle\",\n",
    "    lang='en',\n",
    "    show_log=False\n",
    ")\n",
    "\n",
    "# Sửa 2 ký tự đầu tiên nếu nhận nhầm\n",
    "def correct_first_two_digits(text):\n",
    "    char_to_digit = {\n",
    "        'O': '0', 'o': '0', 'Q': '0',\n",
    "        'I': '1', 'l': '1', 'L': '1',\n",
    "        'Z': '2', 'S': '5', 'B': '8', 'G': '6'\n",
    "    }\n",
    "    text = text.strip()\n",
    "    if len(text) < 2:\n",
    "        return text\n",
    "    new_text = list(text)\n",
    "    for i in range(2):\n",
    "        if not new_text[i].isdigit():\n",
    "            new_text[i] = char_to_digit.get(new_text[i], '0')\n",
    "    return ''.join(new_text)\n",
    "\n",
    "# Hàm OCR một ảnh và in ra từng kết quả\n",
    "def recognize_and_print(img_path):\n",
    "    result = ocr_model.ocr(img_path, cls=False)\n",
    "    print(f\"\\n=== {os.path.basename(img_path)} ===\")\n",
    "    if result and result[0]:\n",
    "        for line in result[0]:\n",
    "            (box, (text, confidence)) = line\n",
    "            corrected_text = correct_first_two_digits(text)\n",
    "            print(f\"Text: {corrected_text}, Confidence: {confidence:.2f}\")\n",
    "    else:\n",
    "        print(\"No text detected\")\n",
    "\n",
    "# OCR toàn bộ ảnh trong thư mục\n",
    "image_folder = r\"D:\\ViTraLP\\output_yolo_crop_test\"\n",
    "valid_exts = ['.jpg', '.jpeg', '.png', '.bmp']\n",
    "\n",
    "for filename in os.listdir(image_folder):\n",
    "    ext = os.path.splitext(filename)[-1].lower()\n",
    "    if ext in valid_exts:\n",
    "        img_path = os.path.join(image_folder, filename)\n",
    "        try:\n",
    "            recognize_and_print(img_path)\n",
    "        except Exception as e:\n",
    "            print(f\"{filename}: Error - {str(e)}\")\n"
   ]
  },
  {
   "cell_type": "code",
   "execution_count": 7,
   "metadata": {},
   "outputs": [
    {
     "name": "stdout",
     "output_type": "stream",
     "text": [
      "[2025/07/21 10:23:50] ppocr DEBUG: Namespace(help='==SUPPRESS==', use_gpu=True, use_xpu=False, use_npu=False, ir_optim=True, use_tensorrt=False, min_subgraph_size=15, precision='fp32', gpu_mem=500, gpu_id=0, image_dir=None, page_num=0, det_algorithm='DB', det_model_dir='C:\\\\Users\\\\ADMIN/.paddleocr/whl\\\\det\\\\ch\\\\ch_PP-OCRv4_det_infer', det_limit_side_len=960, det_limit_type='max', det_box_type='quad', det_db_thresh=0.3, det_db_box_thresh=0.6, det_db_unclip_ratio=1.5, max_batch_size=10, use_dilation=False, det_db_score_mode='fast', det_east_score_thresh=0.8, det_east_cover_thresh=0.1, det_east_nms_thresh=0.2, det_sast_score_thresh=0.5, det_sast_nms_thresh=0.2, det_pse_thresh=0, det_pse_box_thresh=0.85, det_pse_min_area=16, det_pse_scale=1, scales=[8, 16, 32], alpha=1.0, beta=1.0, fourier_degree=5, rec_algorithm='SVTR_LCNet', rec_model_dir='C:\\\\Users\\\\ADMIN/.paddleocr/whl\\\\rec\\\\ch\\\\ch_PP-OCRv4_rec_infer', rec_image_inverse=True, rec_image_shape='3, 48, 320', rec_batch_num=6, max_text_length=25, rec_char_dict_path='C:\\\\Users\\\\ADMIN\\\\AppData\\\\Roaming\\\\Python\\\\Python310\\\\site-packages\\\\paddleocr\\\\ppocr\\\\utils\\\\ppocr_keys_v1.txt', use_space_char=True, vis_font_path='./doc/fonts/simfang.ttf', drop_score=0.5, e2e_algorithm='PGNet', e2e_model_dir=None, e2e_limit_side_len=768, e2e_limit_type='max', e2e_pgnet_score_thresh=0.5, e2e_char_dict_path='./ppocr/utils/ic15_dict.txt', e2e_pgnet_valid_set='totaltext', e2e_pgnet_mode='fast', use_angle_cls=False, cls_model_dir='C:\\\\Users\\\\ADMIN/.paddleocr/whl\\\\cls\\\\ch_ppocr_mobile_v2.0_cls_infer', cls_image_shape='3, 48, 192', label_list=['0', '180'], cls_batch_num=6, cls_thresh=0.9, enable_mkldnn=False, cpu_threads=10, use_pdserving=False, warmup=False, sr_model_dir=None, sr_image_shape='3, 32, 128', sr_batch_num=1, draw_img_save_dir='./inference_results', save_crop_res=False, crop_res_save_dir='./output', use_mp=False, total_process_num=1, process_id=0, benchmark=False, save_log_path='./log_output/', show_log=True, use_onnx=False, output='./output', table_max_len=488, table_algorithm='TableAttn', table_model_dir=None, merge_no_span_structure=True, table_char_dict_path=None, layout_model_dir=None, layout_dict_path=None, layout_score_threshold=0.5, layout_nms_threshold=0.5, kie_algorithm='LayoutXLM', ser_model_dir=None, re_model_dir=None, use_visual_backbone=True, ser_dict_path='../train_data/XFUND/class_list_xfun.txt', ocr_order_method=None, mode='structure', image_orientation=False, layout=True, table=True, ocr=True, recovery=False, use_pdf2docx_api=False, invert=False, binarize=False, alphacolor=(255, 255, 255), lang='ch', det=True, rec=True, type='ocr', ocr_version='PP-OCRv4', structure_version='PP-StructureV2')\n",
      "['__call__', '__class__', '__delattr__', '__dict__', '__dir__', '__doc__', '__eq__', '__format__', '__ge__', '__getattribute__', '__gt__', '__hash__', '__init__', '__init_subclass__', '__le__', '__lt__', '__module__', '__ne__', '__new__', '__reduce__', '__reduce_ex__', '__repr__', '__setattr__', '__sizeof__', '__str__', '__subclasshook__', '__weakref__', 'args', 'crop_image_res_index', 'draw_crop_rec_res', 'drop_score', 'ocr', 'page_num', 'text_detector', 'text_recognizer', 'use_angle_cls']\n"
     ]
    }
   ],
   "source": [
    "from paddleocr import PaddleOCR\n",
    "ocr = PaddleOCR(use_angle_cls=False)\n",
    "\n",
    "# In toàn bộ thuộc tính để tìm path chứa model\n",
    "print(dir(ocr))"
   ]
  },
  {
   "cell_type": "code",
   "execution_count": null,
   "metadata": {},
   "outputs": [],
   "source": []
  }
 ],
 "metadata": {
  "kernelspec": {
   "display_name": "kurama",
   "language": "python",
   "name": "python3"
  },
  "language_info": {
   "codemirror_mode": {
    "name": "ipython",
    "version": 3
   },
   "file_extension": ".py",
   "mimetype": "text/x-python",
   "name": "python",
   "nbconvert_exporter": "python",
   "pygments_lexer": "ipython3",
   "version": "3.10.16"
  }
 },
 "nbformat": 4,
 "nbformat_minor": 2
}
